{
 "cells": [
  {
   "cell_type": "markdown",
   "metadata": {},
   "source": [
    "# ICRS Implementation\n",
    "That is, for applications of this accuracy, the distinctions between the ICRS, FK5,\n",
    "and dynamical equator and equinox of J2000.0 are not significant.\n",
    "\n",
    "A matrix B is required to convert ICRS data to the dynamical mean equator and equinox of J2000.0\n",
    "(the “J2000.0 system”),the latter considered for this purpose to be a barycentric system.\n",
    "\n",
    "In barycentric case, $r_{mean(2000)} = B\\ r_{ICRS}$\n",
    "\n",
    "$$ r=\\left(\\begin{array}{c}\n",
    "    \\cos\\delta\\cos\\alpha\\\\\n",
    "    \\cos\\delta\\sin\\alpha\\\\\n",
    "    \\sin\\delta\\end{array}\\right) $$\n",
    "    \n",
    "In geocentric case, $r_{mean(2000)} = B\\ r_{GCRS}$\n",
    "\n",
    "The matrix B is, to first order,\n",
    "\n",
    "$$ B=\\left(\\begin{array}{ccc}\n",
    "    1 & d\\alpha_0 & -\\epsilon_0\\\\\n",
    "    -d\\alpha_0 &1 & -\\eta_0\\\\\n",
    "    \\epsilon_0 &\\eta_0 &1\\end{array}\\right) $$\n",
    "where $d\\alpha_0=-14.6$ mas, $\\epsilon_0=-16.6170$ mas, $\\eta_0=-6.8192$ mas, all converted to radians\n",
    "(divide by 206264806.247).\n",
    "\n",
    "Although the above matrix is adequate for most applications, a more precise result can be\n",
    "obtained by using the second-order version:\n",
    "$$ B=\\left(\\begin{array}{ccc}\n",
    "    1-\\frac{1}{2}(d\\alpha_0^2+\\epsilon_0^2) & d\\alpha_0 & -\\epsilon_0\\\\\n",
    "    -d\\alpha_0-\\eta_0\\epsilon_0 &1-\\frac{1}{2}(d\\alpha_0^2+\\eta_0^2) & -\\eta_0\\\\\n",
    "    \\epsilon_0-\\eta_0d\\alpha_0 &\\eta_0+\\epsilon_0d\\alpha_0 &1-\\frac{1}{2}(\\eta_0^2+\\epsilon_0^2)\\end{array}\\right) $$\n",
    "\n",
    "The above matrix, from Slabinski (2005), is an excellent approximation to the set of rotations\n",
    "$R\\mbox{_}x(−\\eta_0)\\mbox{R_y}(\\epsilon_0)\\mbox{R_z}(d\\alpha_0)$.\n",
    "\n",
    "    "
   ]
  },
  {
   "cell_type": "code",
   "execution_count": 71,
   "metadata": {
    "collapsed": true
   },
   "outputs": [
    {
     "name": "stdout",
     "output_type": "stream",
     "text": [
      "[[  1.00000000e+00  -7.07827974e-08   8.05614894e-08]\n",
      " [  7.07827974e-08   1.00000000e+00   3.30604145e-08]\n",
      " [ -8.05614894e-08  -3.30604145e-08   1.00000000e+00]]\n",
      "[[  1.00000000e+00  -7.07827974e-08   8.05614894e-08]\n",
      " [  7.07827974e-08   1.00000000e+00   3.30604145e-08]\n",
      " [ -8.05614894e-08  -3.30604145e-08   1.00000000e+00]]\n",
      "[[  1.00000000e+00  -7.07827974e-08   8.05614894e-08]\n",
      " [  7.07827948e-08   1.00000000e+00   3.30604145e-08]\n",
      " [ -8.05614917e-08  -3.30604088e-08   1.00000000e+00]]\n",
      "[[  1.00000000e+00  -7.07827974e-08   8.05614894e-08]\n",
      " [  7.07827948e-08   1.00000000e+00   3.30604145e-08]\n",
      " [ -8.05614917e-08  -3.30604088e-08   1.00000000e+00]]\n",
      "[[ -5.88418203e-15   1.19656639e-19  -1.28351961e-19]\n",
      " [  7.44422847e-19  -3.10862447e-15  -7.44115135e-18]\n",
      " [  1.28351961e-19  -7.40564215e-18  -3.99680289e-15]]\n",
      "[[ -1.11022302e-16   1.19656639e-19  -1.28351961e-19]\n",
      " [  2.66414066e-15  -1.11022302e-16  -7.44115135e-18]\n",
      " [  2.34023698e-15  -5.70977323e-15  -2.22044605e-16]]\n",
      "[[ -1.11022302e-16   1.19378706e-19  -1.28259317e-19]\n",
      " [  2.66414075e-15   0.00000000e+00  -7.44103886e-18]\n",
      " [  2.34023664e-15  -5.70977332e-15  -2.22044605e-16]]\n",
      "[[  0.00000000e+00  -2.77932686e-22   9.26442286e-23]\n",
      " [  9.26442286e-23   1.11022302e-16   1.12496563e-22]\n",
      " [ -3.44107135e-22  -9.26442286e-23   0.00000000e+00]]\n"
     ]
    }
   ],
   "source": [
    "from skyfield.api import load\n",
    "import numpy as np\n",
    "def R_x(angle):\n",
    "    v1=[1.,0.,0.]\n",
    "    v2=[0.,np.cos(angle),np.sin(angle)]\n",
    "    v3=[0.,-np.sin(angle),np.cos(angle)]\n",
    "    return(np.vstack((v1,v2,v3)))\n",
    "def R_y(angle):\n",
    "    v2=[0.,1.,0.]\n",
    "    v3=[np.sin(angle),0.,np.cos(angle)]\n",
    "    v1=[np.cos(angle),0.,-np.sin(angle)]\n",
    "    return(np.vstack((v1,v2,v3)))\n",
    "def R_z(angle):\n",
    "    v3=[0.,0.,1.]\n",
    "    v1=[np.cos(angle),np.sin(angle),0.]\n",
    "    v2=[-np.sin(angle),np.cos(angle),0.]\n",
    "    return(np.vstack((v1,v2,v3)))\n",
    "def polar2cart(lonlat):\n",
    "    lon=lonlat[0]\n",
    "    lat=lonlat[1]\n",
    "    phi=np.pi/2-lat\n",
    "    z=np.cos(phi)\n",
    "    x=np.sin(phi)*np.cos(lon)\n",
    "    y=np.sin(phi)*np.sin(lon)\n",
    "    return(np.array([x,y,z]))\n",
    "def cart2polar(v):\n",
    "    v=v/np.linalg.norm(v)\n",
    "    lon=np.arctan2(v[1],v[0])\n",
    "    lat=np.pi/2-np.arccos(v[2])\n",
    "    return(np.array([lon,lat]))\n",
    "ts = load.timescale()\n",
    "t = ts.utc(2016,9,8,10,23,30)\n",
    "B=t.PT.dot(t.NT).dot(t.M)\n",
    "da0=-14.6/206264806.247\n",
    "epsilon0=-16.6170/206264806.247\n",
    "eta0=-6.8192/206264806.247\n",
    "B1=np.matrix([[1,da0,-epsilon0],[-da0,1,-eta0],[epsilon0,eta0,1 ]])\n",
    "B2=np.matrix([[1-0.5*(da0**2+epsilon0**2),da0,-epsilon0],\n",
    "              [-da0-eta0*epsilon0,1-0.5*(da0**2+eta0**2),-eta0],\n",
    "              [epsilon0-eta0*da0,eta0+epsilon0*da0,1-0.5*(eta0**2+epsilon0**2) ]])\n",
    "B3=R_x(-eta0).dot(R_y(epsilon0)).dot(R_z(da0))\n",
    "print(B)\n",
    "print(B1)\n",
    "print(B2)\n",
    "print(B3)\n",
    "print(B-B1)\n",
    "print(B-B2)\n",
    "print(B-B3)\n",
    "print(B2-B3)"
   ]
  },
  {
   "cell_type": "code",
   "execution_count": 64,
   "metadata": {
    "collapsed": false
   },
   "outputs": [],
   "source": [
    "from astropy.coordinates import SkyCoord  # High-level coordinates\n",
    "from astropy.coordinates import ICRS, Galactic, FK4, FK5,GCRS  # Low-level frames\n",
    "from astropy.coordinates import Angle, Latitude, Longitude  # Angles\n",
    "import astropy.units as u"
   ]
  },
  {
   "cell_type": "code",
   "execution_count": 74,
   "metadata": {
    "collapsed": false
   },
   "outputs": [
    {
     "name": "stdout",
     "output_type": "stream",
     "text": [
      "<SkyCoord (GCRS: obstime=J2000.000, obsgeoloc=[ 0.  0.  0.] m, obsgeovel=[ 0.  0.  0.] m / s): (ra, dec) in deg\n",
      "    (10.0, 20.0)>\n",
      "<SkyCoord (GCRS: obstime=J2000.000, obsgeoloc=[ 0.  0.  0.] m, obsgeovel=[ 0.  0.  0.] m / s): (ra, dec) in deg\n",
      "    (10.0, 20.0)>\n",
      "[ 0.92541658  0.16317591  0.34202014]\n",
      "[ 0.92541658  0.16317591  0.34202014]\n",
      "[ 0.92541659  0.16317599  0.34202006]\n"
     ]
    }
   ],
   "source": [
    "c = SkyCoord(10, 20, unit=\"deg\",frame='gcrs')\n",
    "print(c)\n",
    "c_J2000=c.transform_to(GCRS())\n",
    "print(c_J2000)\n",
    "c_cartesian=np.array([c.cartesian.x.value,c.cartesian.y.value,c.cartesian.z.value])\n",
    "c_J2000_cartesian=np.array([c_J2000.cartesian.x.value,c_J2000.cartesian.y.value,c_J2000.cartesian.z.value])\n",
    "print(c_cartesian)\n",
    "print(c_J2000_cartesian)\n",
    "print(B.dot(c_cartesian))"
   ]
  },
  {
   "cell_type": "code",
   "execution_count": 60,
   "metadata": {
    "collapsed": true
   },
   "outputs": [
    {
     "data": {
      "text/plain": [
       "['AltAz',\n",
       " 'Angle',\n",
       " 'BarycentricTrueEcliptic',\n",
       " 'BaseCoordinateFrame',\n",
       " 'BaseRepresentation',\n",
       " 'BoundsError',\n",
       " 'CIRS',\n",
       " 'CartesianRepresentation',\n",
       " 'CompositeTransform',\n",
       " 'ConvertError',\n",
       " 'CoordinateAttribute',\n",
       " 'CoordinateTransform',\n",
       " 'CylindricalRepresentation',\n",
       " 'Distance',\n",
       " 'DynamicMatrixTransform',\n",
       " 'EarthLocation',\n",
       " 'EarthLocationAttribute',\n",
       " 'FK4',\n",
       " 'FK4NoETerms',\n",
       " 'FK5',\n",
       " 'FrameAttribute',\n",
       " 'FunctionTransform',\n",
       " 'GCRS',\n",
       " 'Galactic',\n",
       " 'Galactocentric',\n",
       " 'GenericFrame',\n",
       " 'GeocentricTrueEcliptic',\n",
       " 'HCRS',\n",
       " 'HeliocentricTrueEcliptic',\n",
       " 'ICRS',\n",
       " 'ITRS',\n",
       " 'IllegalHourError',\n",
       " 'IllegalHourWarning',\n",
       " 'IllegalMinuteError',\n",
       " 'IllegalMinuteWarning',\n",
       " 'IllegalSecondError',\n",
       " 'IllegalSecondWarning',\n",
       " 'Latitude',\n",
       " 'Longitude',\n",
       " 'PhysicsSphericalRepresentation',\n",
       " 'PrecessedGeocentric',\n",
       " 'QuantityFrameAttribute',\n",
       " 'RangeError',\n",
       " 'RepresentationMapping',\n",
       " 'SkyCoord',\n",
       " 'SkyOffsetFrame',\n",
       " 'SphericalRepresentation',\n",
       " 'StaticMatrixTransform',\n",
       " 'Supergalactic',\n",
       " 'TimeFrameAttribute',\n",
       " 'TransformGraph',\n",
       " 'UnitSphericalRepresentation',\n",
       " 'UnknownSiteException',\n",
       " '__builtins__',\n",
       " '__cached__',\n",
       " '__doc__',\n",
       " '__file__',\n",
       " '__loader__',\n",
       " '__name__',\n",
       " '__package__',\n",
       " '__path__',\n",
       " '__spec__',\n",
       " 'absolute_import',\n",
       " 'angle_utilities',\n",
       " 'angles',\n",
       " 'baseframe',\n",
       " 'builtin_frames',\n",
       " 'calculation',\n",
       " 'cartesian_to_spherical',\n",
       " 'concatenate',\n",
       " 'distances',\n",
       " 'division',\n",
       " 'earth',\n",
       " 'earth_orientation',\n",
       " 'errors',\n",
       " 'frame_transform_graph',\n",
       " 'funcs',\n",
       " 'get_body',\n",
       " 'get_body_barycentric',\n",
       " 'get_constellation',\n",
       " 'get_icrs_coordinates',\n",
       " 'get_moon',\n",
       " 'get_sun',\n",
       " 'match_coordinates_3d',\n",
       " 'match_coordinates_sky',\n",
       " 'matching',\n",
       " 'name_resolve',\n",
       " 'orbital_elements',\n",
       " 'print_function',\n",
       " 'representation',\n",
       " 'search_around_3d',\n",
       " 'search_around_sky',\n",
       " 'sites',\n",
       " 'sky_coordinate',\n",
       " 'solar_system',\n",
       " 'solar_system_ephemeris',\n",
       " 'spherical_to_cartesian',\n",
       " 'transformations',\n",
       " 'unicode_literals']"
      ]
     },
     "execution_count": 60,
     "metadata": {},
     "output_type": "execute_result"
    }
   ],
   "source": [
    "import astropy.coordinates as coord\n",
    "dir(coord)"
   ]
  },
  {
   "cell_type": "code",
   "execution_count": 75,
   "metadata": {
    "collapsed": false
   },
   "outputs": [
    {
     "name": "stdout",
     "output_type": "stream",
     "text": [
      "<SkyCoord (ICRS): (ra, dec) in deg\n",
      "    (10.68458, 41.26917)>\n",
      "<SkyCoord (FK5: equinox=J2000.000): (ra, dec) in deg\n",
      "    (10.68459154, 41.26917146)>\n"
     ]
    }
   ],
   "source": []
  },
  {
   "cell_type": "markdown",
   "metadata": {},
   "source": [
    "## Verify transform from ICRS to FK5"
   ]
  },
  {
   "cell_type": "code",
   "execution_count": 80,
   "metadata": {
    "collapsed": true
   },
   "outputs": [
    {
     "name": "stdout",
     "output_type": "stream",
     "text": [
      "<SkyCoord (ICRS): (ra, dec) in deg\n",
      "    (10.68458, 41.26917)>\n",
      "<SkyCoord (FK5: equinox=J2000.000): (ra, dec) in deg\n",
      "    (10.68459154, 41.26917146)>\n",
      "[ 0.73858814  0.13935181  0.65959733]\n",
      "[ 0.73858809  0.13935196  0.65959735]\n",
      "[ 0.73858809  0.13935196  0.65959735]\n",
      "[ 0.73858809  0.13935196  0.65959735]\n",
      "[ 0.73858809  0.13935196  0.65959735]\n",
      "[  5.21804822e-15  -1.63757896e-15   1.23234756e-14]\n",
      "[ 0.  0.  0.]\n",
      "[ -1.11022302e-16  -2.77555756e-17   0.00000000e+00]\n"
     ]
    }
   ],
   "source": [
    "da0=-22.9/206264806.247\n",
    "epsilon0=9.1/206264806.247\n",
    "eta0=-19.9/206264806.247\n",
    "B1_fk5=np.array([[1,da0,-epsilon0],[-da0,1,-eta0],[epsilon0,eta0,1 ]])\n",
    "B2_fk5=np.array([[1-0.5*(da0**2+epsilon0**2),da0,-epsilon0],\n",
    "              [-da0-eta0*epsilon0,1-0.5*(da0**2+eta0**2),-eta0],\n",
    "              [epsilon0-eta0*da0,eta0+epsilon0*da0,1-0.5*(eta0**2+epsilon0**2) ]])\n",
    "B3_fk5=R_x(-eta0).dot(R_y(epsilon0)).dot(R_z(da0))\n",
    "\n",
    "c_icrs = SkyCoord(ra=10.68458*u.degree, dec=41.26917*u.degree, frame='icrs')\n",
    "c_fk5 = c_icrs.transform_to('fk5')\n",
    "print(c_icrs)\n",
    "print(c_fk5)\n",
    "c_icrs_cartesian=np.array([c_icrs.cartesian.x.value,c_icrs.cartesian.y.value,c_icrs.cartesian.z.value])\n",
    "c_fk5_cartesian=np.array([c_fk5.cartesian.x.value,c_fk5.cartesian.y.value,c_fk5.cartesian.z.value])\n",
    "print(c_icrs_cartesian)\n",
    "print(c_fk5_cartesian)\n",
    "print(B1_fk5.dot(c_icrs_cartesian))\n",
    "print(B2_fk5.dot(c_icrs_cartesian))\n",
    "print(B3_fk5.dot(c_icrs_cartesian))\n",
    "print(B1_fk5.dot(c_icrs_cartesian)-c_fk5_cartesian)\n",
    "print(B2_fk5.dot(c_icrs_cartesian)-c_fk5_cartesian)\n",
    "print(B3_fk5.dot(c_icrs_cartesian)-c_fk5_cartesian)"
   ]
  },
  {
   "cell_type": "markdown",
   "metadata": {},
   "source": [
    "## Ephemerides of the Major Solar System Bodies\n",
    "### The JPL Ephemerides\n",
    "The position and velocity data provided by the JPL ephemerides represent the **centers of mass**\n",
    "of each planet-satellite system (although data for the Earth and Moon can be extracted separately).\n",
    "Therefore, the positions, when converted to geocentric apparent places — angular coordinates as\n",
    "seen from Earth — do not precisely indicate the **center of the apparent planetary disk**. Displacements\n",
    "can amount to a few tens of milliarcseconds for Jupiter and Saturn, a few milliarcseconds\n",
    "for Uranus and Neptune, and about 0.1 arcsecond for Pluto.\n",
    "\n",
    "In the context of traditional equatorial celestial coordinate systems, the adjective **mean** is applied\n",
    "to quantities (pole, equator, equinox, coordinates) affected only by precession, while **true** describes\n",
    "quantities affected by both precession and nutation. This is a computational distinction only, since\n",
    "precession and nutation are simply different aspects of the same physical phenomenon. Thus, it is\n",
    "the true quantities that are directly relevant to observations; mean quantities now usually represent \n",
    "an intermediate step in the computations, or the final step where only very low accuracy is needed\n",
    "(10 arcseconds or worse) and nutation can be ignored.\n",
    "\n",
    "Mathematically, this sequence can be represented as follows:\n",
    "$$r_{true}(t) = N(t) P(t) B r_{GCRS}$$"
   ]
  },
  {
   "cell_type": "code",
   "execution_count": 84,
   "metadata": {
    "collapsed": false
   },
   "outputs": [],
   "source": [
    "def P(T):\n",
    "    epsilon0=84381.406\n",
    "    phiA=5038.481507 *T - 1.0790069 *T**2 - 0.00114045* T**3 + 0.000132851* T**4 - 0.0000000951* T**5\n",
    "    omegaA=epsilon0 - 0.025754 *T + 0.0512623 *T**2 - 0.00772503 *T**3 - 0.000000467 *T**4 + 0.0000003337 *T**5\n",
    "    chiA=10.556403 *T - 2.3814292 *T**2 - 0.00121197 *T**3 + 0.000170663 *T**4 - 0.0000000560 *T**5\n",
    "    return(R_z(chiA/206264.806247).dot(R_x(-omegaA/206264.806247)).dot(R_z(-phi1/206264.806247)).dot(R_x(epsilon0/206264.806247)))"
   ]
  },
  {
   "cell_type": "code",
   "execution_count": null,
   "metadata": {
    "collapsed": true
   },
   "outputs": [],
   "source": []
  }
 ],
 "metadata": {
  "anaconda-cloud": {},
  "kernelspec": {
   "display_name": "Python [conda root]",
   "language": "python",
   "name": "conda-root-py"
  },
  "language_info": {
   "codemirror_mode": {
    "name": "ipython",
    "version": 3
   },
   "file_extension": ".py",
   "mimetype": "text/x-python",
   "name": "python",
   "nbconvert_exporter": "python",
   "pygments_lexer": "ipython3",
   "version": "3.5.1"
  }
 },
 "nbformat": 4,
 "nbformat_minor": 0
}
